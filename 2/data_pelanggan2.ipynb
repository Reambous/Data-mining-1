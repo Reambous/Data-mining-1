{
 "cells": [
  {
   "cell_type": "code",
   "execution_count": null,
   "id": "76e2e4f7",
   "metadata": {},
   "outputs": [],
   "source": [
    "import numpy as np\n",
    "import pandas as pd\n",
    "import seaborn as sns\n",
    "import matplotlib.pyplot as plt\n",
    "from sklearn.model_selection import train_test_split\n",
    "from sklearn.linear_model import LogisticRegression\n",
    "from sklearn.metrics import accuracy_score, confusion_matrix, classification_report\n",
    "from sklearn.preprocessing import StandardScaler\n"
   ]
  },
  {
   "cell_type": "code",
   "execution_count": null,
   "id": "256ded91",
   "metadata": {},
   "outputs": [
    {
     "name": "stdout",
     "output_type": "stream",
     "text": [
      "   lama_berlangganan  total_belanja_juta  churn\n",
      "0                  1                   2      1\n",
      "1                 12                  10      0\n",
      "2                 24                  25      0\n",
      "3                  3                   4      1\n",
      "4                  5                   3      1\n",
      "<class 'pandas.core.frame.DataFrame'>\n",
      "RangeIndex: 10 entries, 0 to 9\n",
      "Data columns (total 3 columns):\n",
      " #   Column              Non-Null Count  Dtype\n",
      "---  ------              --------------  -----\n",
      " 0   lama_berlangganan   10 non-null     int64\n",
      " 1   total_belanja_juta  10 non-null     int64\n",
      " 2   churn               10 non-null     int64\n",
      "dtypes: int64(3)\n",
      "memory usage: 372.0 bytes\n",
      "None\n"
     ]
    }
   ],
   "source": [
    "data = pd.read_csv('data_pelanggan.csv')\n",
    "df= pd.DataFrame(data)\n",
    "print(df.head())\n",
    "print(df.info())"
   ]
  },
  {
   "cell_type": "code",
   "execution_count": null,
   "id": "8c5a429b",
   "metadata": {},
   "outputs": [
    {
     "data": {
      "image/png": "[encoded data removed]",
      "text/plain": [
       "<Figure size 640x480 with 1 Axes>"
      ]
     },
     "metadata": {},
     "output_type": "display_data"
    }
   ],
   "source": [
    "sns.scatterplot(data=df, x='lama_berlangganan', y='total_belanja_juta', hue='churn', style='churn')\n",
    "plt.title('Distribusi Pelanggan berdasarkan Churn')\n",
    "plt.xlabel('Lama Berlangganan' )\n",
    "plt.ylabel('Total Belanja (Juta)')\n",
    "plt.grid(True)\n",
    "plt.legend(title='Status Pelanggan')\n",
    "plt.show()\n",
    "\n",
    "sns.pairplot(df, hue='species')\n",
    "plt.show()"
   ]
  },
  {
   "cell_type": "code",
   "execution_count": null,
   "id": "1a285b14",
   "metadata": {},
   "outputs": [
    {
     "name": "stdout",
     "output_type": "stream",
     "text": [
      "Jumlah data train 7\n",
      "Jumlah data test 3\n"
     ]
    }
   ],
   "source": [
    "x = df.drop('churn', axis=1)\n",
    "y = df['churn']\n",
    "x_train, x_test, y_train, y_test=train_test_split(x,y, test_size=0.3, random_state=42, stratify=y)\n",
    "print(\"Jumlah data train {}\".format(len(x_train)))\n",
    "print(\"Jumlah data test {}\".format(len(x_test)))"
   ]
  },
  {
   "cell_type": "code",
   "execution_count": null,
   "id": "3915bb33",
   "metadata": {},
   "outputs": [],
   "source": [
    "scaler = StandardScaler()\n",
    "x_train_scaled = scaler.fit_transform(x_train)\n",
    "x_test_scaled = scaler.transform(x_test)"
   ]
  },
  {
   "cell_type": "code",
   "execution_count": null,
   "id": "ade8a197",
   "metadata": {},
   "outputs": [
    {
     "name": "stdout",
     "output_type": "stream",
     "text": [
      "akurasi = 1.0\n",
      "prediksi model = [0 0 1]\n",
      "data real = [0 0 1]\n"
     ]
    }
   ],
   "source": [
    "model = LogisticRegression()\n",
    "model.fit(x_train_scaled, y_train)\n",
    "y_pred=model.predict(x_test_scaled) \n",
    "print(f\"akurasi = {accuracy_score(y_test, y_pred)}\")\n",
    "print(f\"prediksi model = {y_pred}\")\n",
    "print(f\"data real = {y_test.values}\")"
   ]
  },
  {
   "cell_type": "code",
   "execution_count": null,
   "id": "b093d462",
   "metadata": {},
   "outputs": [
    {
     "name": "stdout",
     "output_type": "stream",
     "text": [
      "data baru setelah di scaled\n",
      "[[-1.182466    0.0345599 ]\n",
      " [ 0.96349082  0.82079752]]\n",
      "prediksi data baru = [1 0]\n"
     ]
    }
   ],
   "source": [
    "data_baru = pd.DataFrame({\n",
    "    'lama_berlangganan': [2,30],\n",
    "    'total_belanja_juta' :[20, 33]\n",
    "})\n",
    "\n",
    "data_baru_scaled =scaler.transform(data_baru)\n",
    "print(f\"data baru setelah di scaled\")\n",
    "print(data_baru_scaled)\n",
    "\n",
    "pred_baru = model.predict(data_baru_scaled)\n",
    "print(f\"prediksi data baru = {pred_baru}\")\n",
    "\n",
    "# for pred_all in pred_baru:\n",
    "#     hasil = 'churn' if pred_all==1 else 'stay'\n",
    "#     print(f\"hasil prediksi data baru = {hasil}\")\n",
    "\n",
    "# print(df.describe())  "
   ]
  }
 ],
 "metadata": {
  "kernelspec": {
   "display_name": "Python 3",
   "language": "python",
   "name": "python3"
  },
  "language_info": {
   "codemirror_mode": {
    "name": "ipython",
    "version": 3
   },
   "file_extension": ".py",
   "mimetype": "text/x-python",
   "name": "python",
   "nbconvert_exporter": "python",
   "pygments_lexer": "ipython3",
   "version": "3.13.2"
  }
 },
 "nbformat": 4,
 "nbformat_minor": 5
}
